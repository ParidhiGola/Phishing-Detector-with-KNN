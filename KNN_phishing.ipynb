{
 "cells": [
  {
   "cell_type": "markdown",
   "metadata": {},
   "source": [
    "## Phishing Site Detection\n",
    "\n",
    "In the Pre processing of the Data the attributes are coded into following format for application of KNN Classifier \n",
    "\n",
    " \tSFH's type is nominal, range is ('1', '-1', '0')\n",
    " \tpopUpWidnow's type is nominal, range is ('-1', '0', '1')\n",
    " \tSSLfinal_State's type is nominal, range is ('1', '-1', '0')\n",
    " \tRequest_URL's type is nominal, range is ('-1', '0', '1')\n",
    " \tURL_of_Anchor's type is nominal, range is ('-1', '0', '1')\n",
    " \tweb_traffic's type is nominal, range is ('1', '0', '-1')\n",
    " \tURL_Length's type is nominal, range is ('1', '-1', '0')\n",
    " \tage_of_domain's type is nominal, range is ('1', '-1')\n",
    " \thaving_IP_Address's type is nominal, range is ('0', '1')\n",
    " \tResult's type is nominal, range is ('0', '1', '-1'))\n",
    "    \n",
    "    The  data coding is as follows:\n",
    "    \"1\"  - Legitimate Website\n",
    "    \"0\"  - Suspicious\n",
    "    \"-1\" - Malicious Website"
   ]
  },
  {
   "cell_type": "code",
   "execution_count": 49,
   "metadata": {},
   "outputs": [],
   "source": [
    "your_local_path = 'C:/Users/ohm/Downloads/Machine Learning Exercises/'"
   ]
  },
  {
   "cell_type": "code",
   "execution_count": 50,
   "metadata": {},
   "outputs": [],
   "source": [
    "import numpy as np\n",
    "from sklearn.neighbors import KNeighborsClassifier\n",
    "import pandas as pd\n",
    "from scipy.io.arff import loadarff\n",
    "from sklearn.model_selection import cross_val_score,GridSearchCV\n",
    "from sklearn.cross_validation import train_test_split\n",
    "from sklearn.metrics import classification_report,confusion_matrix,accuracy_score"
   ]
  },
  {
   "cell_type": "code",
   "execution_count": 51,
   "metadata": {},
   "outputs": [],
   "source": [
    "phishing_data_raw = loadarff(your_local_path+\"PhishingData.arff\")"
   ]
  },
  {
   "cell_type": "code",
   "execution_count": 52,
   "metadata": {},
   "outputs": [
    {
     "data": {
      "text/plain": [
       "(array([(b'1', b'-1', b'1', b'-1', b'-1', b'1', b'1', b'1', b'0', b'0'),\n",
       "        (b'-1', b'-1', b'-1', b'-1', b'-1', b'0', b'1', b'1', b'1', b'1'),\n",
       "        (b'1', b'-1', b'0', b'0', b'-1', b'0', b'-1', b'1', b'0', b'1'),\n",
       "        ...,\n",
       "        (b'-1', b'0', b'-1', b'-1', b'-1', b'0', b'-1', b'-1', b'0', b'1'),\n",
       "        (b'0', b'0', b'1', b'0', b'0', b'0', b'-1', b'1', b'0', b'1'),\n",
       "        (b'1', b'0', b'1', b'1', b'1', b'0', b'-1', b'-1', b'0', b'-1')],\n",
       "       dtype=[('SFH', 'S2'), ('popUpWidnow', 'S2'), ('SSLfinal_State', 'S2'), ('Request_URL', 'S2'), ('URL_of_Anchor', 'S2'), ('web_traffic', 'S2'), ('URL_Length', 'S2'), ('age_of_domain', 'S2'), ('having_IP_Address', 'S1'), ('Result', 'S2')]),\n",
       " Dataset: Phishing\n",
       " \tSFH's type is nominal, range is ('1', '-1', '0')\n",
       " \tpopUpWidnow's type is nominal, range is ('-1', '0', '1')\n",
       " \tSSLfinal_State's type is nominal, range is ('1', '-1', '0')\n",
       " \tRequest_URL's type is nominal, range is ('-1', '0', '1')\n",
       " \tURL_of_Anchor's type is nominal, range is ('-1', '0', '1')\n",
       " \tweb_traffic's type is nominal, range is ('1', '0', '-1')\n",
       " \tURL_Length's type is nominal, range is ('1', '-1', '0')\n",
       " \tage_of_domain's type is nominal, range is ('1', '-1')\n",
       " \thaving_IP_Address's type is nominal, range is ('0', '1')\n",
       " \tResult's type is nominal, range is ('0', '1', '-1'))"
      ]
     },
     "execution_count": 52,
     "metadata": {},
     "output_type": "execute_result"
    }
   ],
   "source": [
    "phishing_data_raw"
   ]
  },
  {
   "cell_type": "code",
   "execution_count": 53,
   "metadata": {},
   "outputs": [
    {
     "data": {
      "text/plain": [
       "array([(b'1', b'-1', b'1', b'-1', b'-1', b'1', b'1', b'1', b'0', b'0'),\n",
       "       (b'-1', b'-1', b'-1', b'-1', b'-1', b'0', b'1', b'1', b'1', b'1'),\n",
       "       (b'1', b'-1', b'0', b'0', b'-1', b'0', b'-1', b'1', b'0', b'1'),\n",
       "       ...,\n",
       "       (b'-1', b'0', b'-1', b'-1', b'-1', b'0', b'-1', b'-1', b'0', b'1'),\n",
       "       (b'0', b'0', b'1', b'0', b'0', b'0', b'-1', b'1', b'0', b'1'),\n",
       "       (b'1', b'0', b'1', b'1', b'1', b'0', b'-1', b'-1', b'0', b'-1')],\n",
       "      dtype=[('SFH', 'S2'), ('popUpWidnow', 'S2'), ('SSLfinal_State', 'S2'), ('Request_URL', 'S2'), ('URL_of_Anchor', 'S2'), ('web_traffic', 'S2'), ('URL_Length', 'S2'), ('age_of_domain', 'S2'), ('having_IP_Address', 'S1'), ('Result', 'S2')])"
      ]
     },
     "execution_count": 53,
     "metadata": {},
     "output_type": "execute_result"
    }
   ],
   "source": [
    "# Selection of the Data and converting data into numpy format for flexibility in cleaning\n",
    "phising_data_array = np.array(phishing_data_raw[0])\n",
    "phising_data_array"
   ]
  },
  {
   "cell_type": "code",
   "execution_count": 54,
   "metadata": {},
   "outputs": [
    {
     "name": "stdout",
     "output_type": "stream",
     "text": [
      "(1353, 10)\n"
     ]
    },
    {
     "data": {
      "text/html": [
       "<div>\n",
       "<style scoped>\n",
       "    .dataframe tbody tr th:only-of-type {\n",
       "        vertical-align: middle;\n",
       "    }\n",
       "\n",
       "    .dataframe tbody tr th {\n",
       "        vertical-align: top;\n",
       "    }\n",
       "\n",
       "    .dataframe thead th {\n",
       "        text-align: right;\n",
       "    }\n",
       "</style>\n",
       "<table border=\"1\" class=\"dataframe\">\n",
       "  <thead>\n",
       "    <tr style=\"text-align: right;\">\n",
       "      <th></th>\n",
       "      <th>SFH</th>\n",
       "      <th>popUpWidnow</th>\n",
       "      <th>SSLfinal_State</th>\n",
       "      <th>Request_URL</th>\n",
       "      <th>URL_of_Anchor</th>\n",
       "      <th>web_traffic</th>\n",
       "      <th>URL_Length</th>\n",
       "      <th>age_of_domain</th>\n",
       "      <th>having_IP_Address</th>\n",
       "      <th>Result</th>\n",
       "    </tr>\n",
       "  </thead>\n",
       "  <tbody>\n",
       "    <tr>\n",
       "      <th>0</th>\n",
       "      <td>1</td>\n",
       "      <td>-1</td>\n",
       "      <td>1</td>\n",
       "      <td>-1</td>\n",
       "      <td>-1</td>\n",
       "      <td>1</td>\n",
       "      <td>1</td>\n",
       "      <td>1</td>\n",
       "      <td>0</td>\n",
       "      <td>0</td>\n",
       "    </tr>\n",
       "    <tr>\n",
       "      <th>1</th>\n",
       "      <td>-1</td>\n",
       "      <td>-1</td>\n",
       "      <td>-1</td>\n",
       "      <td>-1</td>\n",
       "      <td>-1</td>\n",
       "      <td>0</td>\n",
       "      <td>1</td>\n",
       "      <td>1</td>\n",
       "      <td>1</td>\n",
       "      <td>1</td>\n",
       "    </tr>\n",
       "    <tr>\n",
       "      <th>2</th>\n",
       "      <td>1</td>\n",
       "      <td>-1</td>\n",
       "      <td>0</td>\n",
       "      <td>0</td>\n",
       "      <td>-1</td>\n",
       "      <td>0</td>\n",
       "      <td>-1</td>\n",
       "      <td>1</td>\n",
       "      <td>0</td>\n",
       "      <td>1</td>\n",
       "    </tr>\n",
       "    <tr>\n",
       "      <th>3</th>\n",
       "      <td>1</td>\n",
       "      <td>0</td>\n",
       "      <td>1</td>\n",
       "      <td>-1</td>\n",
       "      <td>-1</td>\n",
       "      <td>0</td>\n",
       "      <td>1</td>\n",
       "      <td>1</td>\n",
       "      <td>0</td>\n",
       "      <td>0</td>\n",
       "    </tr>\n",
       "    <tr>\n",
       "      <th>4</th>\n",
       "      <td>-1</td>\n",
       "      <td>-1</td>\n",
       "      <td>1</td>\n",
       "      <td>-1</td>\n",
       "      <td>0</td>\n",
       "      <td>0</td>\n",
       "      <td>-1</td>\n",
       "      <td>1</td>\n",
       "      <td>0</td>\n",
       "      <td>1</td>\n",
       "    </tr>\n",
       "  </tbody>\n",
       "</table>\n",
       "</div>"
      ],
      "text/plain": [
       "   SFH  popUpWidnow  SSLfinal_State  Request_URL  URL_of_Anchor  web_traffic  \\\n",
       "0    1           -1               1           -1             -1            1   \n",
       "1   -1           -1              -1           -1             -1            0   \n",
       "2    1           -1               0            0             -1            0   \n",
       "3    1            0               1           -1             -1            0   \n",
       "4   -1           -1               1           -1              0            0   \n",
       "\n",
       "   URL_Length  age_of_domain  having_IP_Address  Result  \n",
       "0           1              1                  0       0  \n",
       "1           1              1                  1       1  \n",
       "2          -1              1                  0       1  \n",
       "3           1              1                  0       0  \n",
       "4          -1              1                  0       1  "
      ]
     },
     "execution_count": 54,
     "metadata": {},
     "output_type": "execute_result"
    }
   ],
   "source": [
    "# Converting the numpy array into Pandas data frame  and casting the coloumns to numeric type\n",
    "phising_data_frame = pd.DataFrame(phising_data_array).apply(pd.to_numeric)\n",
    "print(phising_data_frame.shape)\n",
    "phising_data_frame.head()"
   ]
  },
  {
   "cell_type": "code",
   "execution_count": 55,
   "metadata": {},
   "outputs": [
    {
     "name": "stdout",
     "output_type": "stream",
     "text": [
      "Coloumn_names:SFH, popUpWidnow, SSLfinal_State, Request_URL, URL_of_Anchor, web_traffic, URL_Length, age_of_domain, having_IP_Address, Result\n",
      "[ 0  1  1 ...  1  1 -1]\n"
     ]
    }
   ],
   "source": [
    "col_names = list(phising_data_frame)# Geeting Column names of the pandas data frame\n",
    "print(\"Coloumn_names:\" + \", \".join(col_names))\n",
    "# The scikit learn package takes data in form of labels and predictors\n",
    "# Extracting Result coloum to pass as target coloum\n",
    "labels = phising_data_frame[\"Result\"].values\n",
    "print(labels)"
   ]
  },
  {
   "cell_type": "code",
   "execution_count": 56,
   "metadata": {},
   "outputs": [
    {
     "name": "stdout",
     "output_type": "stream",
     "text": [
      "Predictor_Coloumns:SFH, popUpWidnow, SSLfinal_State, Request_URL, URL_of_Anchor, web_traffic, URL_Length, age_of_domain\n"
     ]
    },
    {
     "data": {
      "text/plain": [
       "array([[ 1, -1,  1, ...,  1,  1,  1],\n",
       "       [-1, -1, -1, ...,  0,  1,  1],\n",
       "       [ 1, -1,  0, ...,  0, -1,  1],\n",
       "       ...,\n",
       "       [-1,  0, -1, ...,  0, -1, -1],\n",
       "       [ 0,  0,  1, ...,  0, -1,  1],\n",
       "       [ 1,  0,  1, ...,  0, -1, -1]], dtype=int64)"
      ]
     },
     "execution_count": 56,
     "metadata": {},
     "output_type": "execute_result"
    }
   ],
   "source": [
    "predictor_cols = col_names[0:len(col_names)-2]# selecting the predictor column names\n",
    "print(\"Predictor_Coloumns:\" + \", \".join(predictor_cols))\n",
    "#extracting Predictor points \n",
    "predictors = phising_data_frame[predictor_cols].values\n",
    "predictors"
   ]
  },
  {
   "cell_type": "code",
   "execution_count": 57,
   "metadata": {},
   "outputs": [
    {
     "name": "stdout",
     "output_type": "stream",
     "text": [
      "Coloumn_names:SFH, popUpWidnow, SSLfinal_State, Request_URL, URL_of_Anchor, web_traffic, URL_Length, age_of_domain, having_IP_Address, Result\n",
      "[ 0  1  1 ...  1  1 -1]\n",
      "Predictor_Coloumns:SFH, popUpWidnow, SSLfinal_State, Request_URL, URL_of_Anchor, web_traffic, URL_Length, age_of_domain\n",
      "[[ 1 -1  1 ...  1  1  1]\n",
      " [-1 -1 -1 ...  0  1  1]\n",
      " [ 1 -1  0 ...  0 -1  1]\n",
      " ...\n",
      " [-1  0 -1 ...  0 -1 -1]\n",
      " [ 0  0  1 ...  0 -1  1]\n",
      " [ 1  0  1 ...  0 -1 -1]]\n"
     ]
    }
   ],
   "source": [
    "col_names_ml = list(phising_data_frame)# Geeting Column names of the pandas data frame\n",
    "print(\"Coloumn_names:\" + \", \".join(col_names_ml))\n",
    "# The scikit learn package takes data in form of labels and predictors\n",
    "# Extracting Result coloum to pass as target coloum\n",
    "labels_ml = phising_data_frame[\"Result\"].values\n",
    "print(labels_ml)\n",
    "\n",
    "\n",
    "\n",
    "predictor_cols_ml = col_names_ml[0:len(col_names_ml)-2]# selecting the predictor column names\n",
    "print(\"Predictor_Coloumns:\" + \", \".join(predictor_cols_ml))\n",
    "#extracting Predictor points \n",
    "predictors_ml = phising_data_frame[predictor_cols_ml].values\n",
    "print(predictors_ml)"
   ]
  },
  {
   "cell_type": "code",
   "execution_count": 58,
   "metadata": {},
   "outputs": [
    {
     "name": "stdout",
     "output_type": "stream",
     "text": [
      "{'n_neighbors': 4}\n",
      "             precision    recall  f1-score   support\n",
      "\n",
      "         -1       0.89      0.93      0.91       203\n",
      "          0       0.83      0.83      0.83        35\n",
      "          1       0.89      0.85      0.87       168\n",
      "\n",
      "avg / total       0.89      0.89      0.89       406\n",
      "\n"
     ]
    },
    {
     "data": {
      "text/plain": [
       "array([[188,   3,  12],\n",
       "       [  1,  29,   5],\n",
       "       [ 22,   3, 143]], dtype=int64)"
      ]
     },
     "execution_count": 58,
     "metadata": {},
     "output_type": "execute_result"
    }
   ],
   "source": [
    "# split into train and test\n",
    "X_train, X_test, y_train, y_test = train_test_split(predictors_ml, labels_ml, test_size=0.3, random_state=42)\n",
    "\n",
    "#gridsearchCV for K (number of neighbors)\n",
    "k = np.arange(1,31,1)# As a thumb rule k might be taken as squareroot of 'n', but gridsearch is the best option\n",
    "parameters = {'n_neighbors' : k}\n",
    "clf_knn = KNeighborsClassifier(weights = 'distance')\n",
    "clf = GridSearchCV(clf_knn,parameters,cv=5)\n",
    "clf_knn = clf.fit(X_train,y_train)\n",
    "print(clf.best_params_)\n",
    "\n",
    "\n",
    "#Prediction\n",
    "pred = clf_knn.predict(X_test)\n",
    "target_names = ['-1','0','1']\n",
    "print(classification_report(y_test,pred,target_names=target_names))\n",
    "confusion_matrix(y_test,pred)"
   ]
  },
  {
   "cell_type": "code",
   "execution_count": 59,
   "metadata": {},
   "outputs": [
    {
     "name": "stdout",
     "output_type": "stream",
     "text": [
      "0.8866995073891626\n"
     ]
    }
   ],
   "source": [
    "print(accuracy_score(y_test,pred))"
   ]
  },
  {
   "cell_type": "code",
   "execution_count": 60,
   "metadata": {},
   "outputs": [],
   "source": [
    "# with our model, we achieved 88.67% accuracy. By finetuning the hyper parameters of KNN Classifier, we can achieve more accuracy."
   ]
  }
 ],
 "metadata": {
  "kernelspec": {
   "display_name": "Python 3",
   "language": "python",
   "name": "python3"
  },
  "language_info": {
   "codemirror_mode": {
    "name": "ipython",
    "version": 3
   },
   "file_extension": ".py",
   "mimetype": "text/x-python",
   "name": "python",
   "nbconvert_exporter": "python",
   "pygments_lexer": "ipython3",
   "version": "3.6.5"
  }
 },
 "nbformat": 4,
 "nbformat_minor": 2
}
